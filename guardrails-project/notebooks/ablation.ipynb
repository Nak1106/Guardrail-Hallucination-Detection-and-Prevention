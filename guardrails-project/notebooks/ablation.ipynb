{
  "cells": [
    {
      "cell_type": "markdown",
      "metadata": {},
      "source": [
        "# Guardrails Project - Ablation Studies\n",
        "\n",
        "This notebook conducts ablation studies to understand the impact of individual components and optimize system performance.\n",
        "\n",
        "## Objectives\n",
        "- Test impact of individual guardrail components\n",
        "- Optimize threshold configurations\n",
        "- Analyze component interactions and dependencies\n",
        "- Identify most critical safety measures\n",
        "- Performance vs safety trade-off analysis\n"
      ]
    },
    {
      "cell_type": "code",
      "execution_count": null,
      "metadata": {},
      "outputs": [],
      "source": [
        "# Import required libraries\n",
        "import os\n",
        "import sys\n",
        "import pandas as pd\n",
        "import numpy as np\n",
        "import matplotlib.pyplot as plt\n",
        "import seaborn as sns\n",
        "import json\n",
        "import yaml\n",
        "from pathlib import Path\n",
        "from itertools import combinations\n",
        "import time\n",
        "\n",
        "# Add src to path for imports\n",
        "sys.path.append('../src')\n",
        "\n",
        "# Statistical analysis\n",
        "from scipy import stats\n",
        "from sklearn.model_selection import ParameterGrid\n",
        "\n",
        "# Visualization settings\n",
        "plt.style.use('seaborn-v0_8')\n",
        "%matplotlib inline\n",
        "\n",
        "print(\"Ablation study environment ready!\")\n"
      ]
    }
  ],
  "metadata": {
    "language_info": {
      "name": "python"
    }
  },
  "nbformat": 4,
  "nbformat_minor": 2
}
